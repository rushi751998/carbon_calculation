{
 "cells": [
  {
   "cell_type": "code",
   "execution_count": 1,
   "metadata": {},
   "outputs": [],
   "source": [
    "import pandas as pd"
   ]
  },
  {
   "cell_type": "code",
   "execution_count": 11,
   "metadata": {},
   "outputs": [],
   "source": [
    "raw = pd.read_csv('/config/workspace/raw.csv',index_col='Year')\n",
    "raw.sort_index(inplace=True)"
   ]
  },
  {
   "cell_type": "code",
   "execution_count": 27,
   "metadata": {},
   "outputs": [
    {
     "data": {
      "text/plain": [
       "array(['Total  emissions excluding LULUCF',\n",
       "       '2- Industrial processes and product use',\n",
       "       '1B - Fugitive Emissions from Fuels',\n",
       "       'Land use, land-use change and forestry (LULUCF)',\n",
       "       'Total GHG excl. LULUCF, Index 2000=100',\n",
       "       '1A4 - Residential and other sectors\\t',\n",
       "       'Total GHG excl. LULUCF, Index 1990=100', '1A5 - Energy - Other',\n",
       "       'Total GHG excl. LULUCF per capita', '1A3 - Transport',\n",
       "       '1A1 - Energy Industries', '1 - Energy',\n",
       "       '1A2 - Manufacturing industries and construction',\n",
       "       'Total GHG excl. LULUCF per unit of GDP',\n",
       "       'Total  emissions including LULUCF', '5 - Waste',\n",
       "       'Total GHG incl. LULUCF per capita', '3 - Agriculture',\n",
       "       '1A4 - Residential and other sectors',\n",
       "       '1C - CO2 from Transport and Storage',\n",
       "       'Total GHG incl. LULUCF per unit of GDP', '6 - Other'],\n",
       "      dtype=object)"
      ]
     },
     "execution_count": 27,
     "metadata": {},
     "output_type": "execute_result"
    }
   ],
   "source": [
    "raw.Variable.unique()\n"
   ]
  },
  {
   "cell_type": "code",
   "execution_count": 25,
   "metadata": {},
   "outputs": [
    {
     "data": {
      "text/plain": [
       "array(['Australia', 'Belarus', 'Lithuania', 'Argentina', 'Iceland',\n",
       "       'Luxembourg', 'Romania', 'Netherlands', 'Poland', 'Kazakhstan',\n",
       "       'Monaco', 'European Union – 27 countries (from 01/02/2020)',\n",
       "       'Germany', 'Finland', 'Austria', 'Liechtenstein', 'France',\n",
       "       'Ukraine', 'OECD - Total', 'Croatia', 'New Zealand', 'Switzerland',\n",
       "       'Indonesia', 'Spain', 'Cyprus', 'Saudi Arabia', 'Japan', 'Greece',\n",
       "       'Malta', 'Norway', 'Slovenia', 'Canada', 'Bulgaria', 'Italy',\n",
       "       'Slovak Republic', 'Estonia', 'Portugal', 'United States',\n",
       "       'Türkiye', 'South Africa', 'Russia', 'Sweden', 'Czech Republic',\n",
       "       'Belgium', 'Ireland', 'Latvia', 'Denmark', 'Hungary',\n",
       "       'United Kingdom', 'Mexico', 'OECD - Europe', 'Brazil', 'Chile',\n",
       "       'Korea', 'OECD Asia Oceania', 'Costa Rica', 'Colombia',\n",
       "       'OECD America', 'Peru', 'Iran', 'India',\n",
       "       \"China (People's Republic of)\", 'Israel'], dtype=object)"
      ]
     },
     "execution_count": 25,
     "metadata": {},
     "output_type": "execute_result"
    }
   ],
   "source": [
    "raw.Country.unique()"
   ]
  },
  {
   "cell_type": "code",
   "execution_count": 29,
   "metadata": {},
   "outputs": [],
   "source": [
    "a = raw[(raw['Country']=='Australia')& (raw['Pollutant']=='Carbon dioxide')&(raw['Variable'] =='Total  emissions excluding LULUCF')] #['Pollutant'] \n"
   ]
  },
  {
   "cell_type": "code",
   "execution_count": 33,
   "metadata": {},
   "outputs": [
    {
     "ename": "NameError",
     "evalue": "name 'country' is not defined",
     "output_type": "error",
     "traceback": [
      "\u001b[0;31m---------------------------------------------------------------------------\u001b[0m",
      "\u001b[0;31mNameError\u001b[0m                                 Traceback (most recent call last)",
      "Cell \u001b[0;32mIn[33], line 1\u001b[0m\n\u001b[0;32m----> 1\u001b[0m filtered \u001b[38;5;241m=\u001b[39mraw[(raw[\u001b[38;5;124m'\u001b[39m\u001b[38;5;124mCountry\u001b[39m\u001b[38;5;124m'\u001b[39m]\u001b[38;5;241m==\u001b[39m\u001b[43mcountry\u001b[49m)\u001b[38;5;241m&\u001b[39m (raw[\u001b[38;5;124m'\u001b[39m\u001b[38;5;124mPollutant\u001b[39m\u001b[38;5;124m'\u001b[39m]\u001b[38;5;241m==\u001b[39mpollutant)\u001b[38;5;241m&\u001b[39m(raw[\u001b[38;5;124m'\u001b[39m\u001b[38;5;124mVariable\u001b[39m\u001b[38;5;124m'\u001b[39m] \u001b[38;5;241m==\u001b[39m\u001b[38;5;124m'\u001b[39m\u001b[38;5;124mTotal  emissions excluding LULUCF\u001b[39m\u001b[38;5;124m'\u001b[39m)][[\u001b[38;5;124m'\u001b[39m\u001b[38;5;124mYear\u001b[39m\u001b[38;5;124m'\u001b[39m,\u001b[38;5;124m'\u001b[39m\u001b[38;5;124mPollutant\u001b[39m\u001b[38;5;124m'\u001b[39m]] \n\u001b[1;32m      3\u001b[0m \u001b[38;5;28mprint\u001b[39m(filtered[\u001b[38;5;124m'\u001b[39m\u001b[38;5;124mYear\u001b[39m\u001b[38;5;124m'\u001b[39m]\u001b[38;5;241m.\u001b[39mvalues)\n",
      "\u001b[0;31mNameError\u001b[0m: name 'country' is not defined"
     ]
    }
   ],
   "source": [
    "filtered =raw[(raw['Country']==country)& (raw['Pollutant']==pollutant)&(raw['Variable'] =='Total  emissions excluding LULUCF')][['Year','Pollutant']] \n",
    "\n",
    "print(filtered['Year'].values)\n"
   ]
  },
  {
   "cell_type": "code",
   "execution_count": 17,
   "metadata": {},
   "outputs": [
    {
     "name": "stdout",
     "output_type": "stream",
     "text": [
      "<class 'pandas.core.frame.DataFrame'>\n",
      "Index: 75706 entries, 1990 to 2020\n",
      "Data columns (total 16 columns):\n",
      " #   Column                 Non-Null Count  Dtype  \n",
      "---  ------                 --------------  -----  \n",
      " 0   COU                    75706 non-null  object \n",
      " 1   Country                75706 non-null  object \n",
      " 2   POL                    75706 non-null  object \n",
      " 3   Pollutant              75706 non-null  object \n",
      " 4   VAR                    75706 non-null  object \n",
      " 5   Variable               75706 non-null  object \n",
      " 6   YEA                    75706 non-null  int64  \n",
      " 7   Unit Code              72773 non-null  object \n",
      " 8   Unit                   72773 non-null  object \n",
      " 9   PowerCode Code         75706 non-null  int64  \n",
      " 10  PowerCode              75706 non-null  object \n",
      " 11  Reference Period Code  0 non-null      float64\n",
      " 12  Reference Period       0 non-null      float64\n",
      " 13  Value                  75706 non-null  float64\n",
      " 14  Flag Codes             4 non-null      object \n",
      " 15  Flags                  4 non-null      object \n",
      "dtypes: float64(3), int64(2), object(11)\n",
      "memory usage: 9.8+ MB\n"
     ]
    }
   ],
   "source": [
    "raw.info()"
   ]
  },
  {
   "cell_type": "code",
   "execution_count": null,
   "metadata": {},
   "outputs": [],
   "source": []
  }
 ],
 "metadata": {
  "kernelspec": {
   "display_name": "Python 3.8.10 64-bit",
   "language": "python",
   "name": "python3"
  },
  "language_info": {
   "name": "python",
   "version": "3.8.10"
  },
  "orig_nbformat": 4,
  "vscode": {
   "interpreter": {
    "hash": "e7370f93d1d0cde622a1f8e1c04877d8463912d04d973331ad4851f04de6915a"
   }
  }
 },
 "nbformat": 4,
 "nbformat_minor": 2
}
