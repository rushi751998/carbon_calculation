{
 "cells": [
  {
   "cell_type": "code",
   "execution_count": 2,
   "metadata": {},
   "outputs": [],
   "source": [
    "def Industrial_carbon_calculator(Electricity_yearly,WaterWaste_Yearly,SolidWaste_Yearly,Bus_Yearly,car_Yearly,Bike125_Yearly,Bike500_Yearly,Desktop_Count,SmartPhone_Count,Print_Yearly,Laptop_Yearly,GeneratorGrid_Yearly,GeneratorDiesel_Yearly,LPG_qty,Projector_Yearly):\n",
    "    #Administration\n",
    "    Electricity_yearly_emission = Electricity_yearly*0.00085\n",
    "    WaterWaste_Yearly_emission=WaterWaste_Yearly*0.000298\n",
    "    Solidwaste_yearly_emission=SolidWaste_Yearly*0.000165\n",
    "    GeneratorGrid_Yearly_emission=GeneratorGrid_Yearly*0.37\n",
    "    GeneratorDiesel_Yearly_emission=GeneratorDiesel_Yearly*0.79\n",
    "    LPG_yearly_Emission = LPG_qty * 0.002983\n",
    "    #Transport\n",
    "    Bus_yearly_emission=Bus_Yearly*0.000096\n",
    "    Car_Yearly_emission=car_Yearly*0.000149\n",
    "    Bike125_Yearly_emission=Bike125_Yearly*0.0001\n",
    "    Bike500_Yearly_emission=Bike500_Yearly*0.00013237\n",
    "    #Appliances\n",
    "    Desktop_Yearly_emission=Desktop_Count*0.778\n",
    "    SmartPhone_Yearly_emission=SmartPhone_Count*0.063\n",
    "    Print_Yearly_emission=Print_Yearly*0.000001027\n",
    "    Laptop_Yearly_emission=Laptop_Yearly*0.10562\n",
    "    Projector_Yearly_emission=Projector_Yearly*0.001\n",
    "    Carbon_Footprint=(Electricity_yearly_emission + WaterWaste_Yearly_emission + Solidwaste_yearly_emission \n",
    "                        + Bus_yearly_emission + Car_Yearly_emission + Bike125_Yearly_emission \n",
    "                        + Bike500_Yearly_emission + Desktop_Yearly_emission + SmartPhone_Yearly_emission \n",
    "                        + Print_Yearly_emission +Laptop_Yearly_emission + GeneratorGrid_Yearly_emission \n",
    "                        + GeneratorDiesel_Yearly_emission+LPG_yearly_Emission + Projector_Yearly_emission)\n",
    "    return Carbon_Footprint"
   ]
  },
  {
   "cell_type": "code",
   "execution_count": 3,
   "metadata": {},
   "outputs": [
    {
     "data": {
      "text/plain": [
       "80593.1211497"
      ]
     },
     "execution_count": 3,
     "metadata": {},
     "output_type": "execute_result"
    }
   ],
   "source": [
    "Industrial_carbon_calculator(2000,100,5000,20000,20000,20000,20000,100,200,100,100,4000,100000,9,30)"
   ]
  },
  {
   "cell_type": "code",
   "execution_count": null,
   "metadata": {},
   "outputs": [],
   "source": []
  }
 ],
 "metadata": {
  "kernelspec": {
   "display_name": "Python 3.8.10 64-bit",
   "language": "python",
   "name": "python3"
  },
  "language_info": {
   "codemirror_mode": {
    "name": "ipython",
    "version": 3
   },
   "file_extension": ".py",
   "mimetype": "text/x-python",
   "name": "python",
   "nbconvert_exporter": "python",
   "pygments_lexer": "ipython3",
   "version": "3.8.10"
  },
  "orig_nbformat": 4,
  "vscode": {
   "interpreter": {
    "hash": "e7370f93d1d0cde622a1f8e1c04877d8463912d04d973331ad4851f04de6915a"
   }
  }
 },
 "nbformat": 4,
 "nbformat_minor": 2
}
